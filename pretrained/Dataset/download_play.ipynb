{
 "cells": [
  {
   "cell_type": "code",
   "execution_count": 31,
   "id": "8e0bbef8",
   "metadata": {},
   "outputs": [
    {
     "name": "stdout",
     "output_type": "stream",
     "text": [
      "File downloaded successfully to: sdf/00000001_00025000.sdf.gz\n",
      "Decompressed file saved successfully: sdf/00000001_00025000.sdf\n"
     ]
    }
   ],
   "source": [
    "import requests\n",
    "import gzip\n",
    "import os\n",
    "\n",
    "def download_and_decompress(id):\n",
    "    # Define the directory to save the downloaded file\n",
    "    url = f\"https://ftp.ncbi.nlm.nih.gov/pubchem/Compound_3D/10_conf_per_cmpd/SDF/{id}.sdf.gz\"\n",
    "    directory = \"sdf/\"\n",
    "\n",
    "    # Ensure the directory exists\n",
    "    os.makedirs(directory, exist_ok=True)\n",
    "\n",
    "    # Send a GET request to the URL\n",
    "    response = requests.get(url)\n",
    "\n",
    "    # Check if the request was successful (status code 200)\n",
    "    if response.status_code == 200:\n",
    "        # Extract filename from the URL\n",
    "        filename = url.split(\"/\")[-1]\n",
    "\n",
    "        # Path to save the downloaded file\n",
    "        file_path = os.path.join(directory, filename)\n",
    "\n",
    "        # Open the file and write the content\n",
    "        with open(file_path, \"wb\") as f:\n",
    "            f.write(response.content)\n",
    "        print(f\"File downloaded successfully to: {file_path}\")\n",
    "\n",
    "        # If the downloaded file is in gzip format, decompress it\n",
    "        if filename.endswith('.gz'):\n",
    "            with gzip.open(file_path, 'rb') as f_in:\n",
    "                # Read the decompressed data\n",
    "                decompressed_data = f_in.read()\n",
    "\n",
    "            # Define the path for the decompressed file\n",
    "            decompressed_file_path = os.path.splitext(file_path)[0]\n",
    "\n",
    "            # Write the decompressed data to a new file\n",
    "            with open(decompressed_file_path, 'wb') as f_out:\n",
    "                f_out.write(decompressed_data)\n",
    "\n",
    "            print(f\"Decompressed file saved successfully: {decompressed_file_path}\")\n",
    "    else:\n",
    "        print(\"Failed to download the file.\")\n",
    "\n",
    "# Example usage:\n",
    "id = \"00000001_00025000\"\n",
    "download_and_decompress(id)\n",
    "\n"
   ]
  },
  {
   "cell_type": "code",
   "execution_count": 26,
   "id": "a2debd40",
   "metadata": {},
   "outputs": [],
   "source": [
    "def generate_sequence(term, n):\n",
    "    sequence = []\n",
    "    for i in range(n):\n",
    "        formatted_term = f\"{term:08}\"\n",
    "        sequence.append(formatted_term)\n",
    "        term += 25000\n",
    "    return sequence\n",
    "\n",
    "fs=generate_sequence(1, 40)\n",
    "bs=generate_sequence(25000, 40)"
   ]
  },
  {
   "cell_type": "code",
   "execution_count": null,
   "id": "5e8c4be0",
   "metadata": {},
   "outputs": [],
   "source": [
    "for i in range(len(fs)):\n",
    "    id = fs[i] + \"_\" + bs[i]\n",
    "    download_and_decompress(id)"
   ]
  },
  {
   "cell_type": "code",
   "execution_count": 27,
   "id": "d204796d",
   "metadata": {},
   "outputs": [
    {
     "data": {
      "text/plain": [
       "['00000001',\n",
       " '00025001',\n",
       " '00050001',\n",
       " '00075001',\n",
       " '00100001',\n",
       " '00125001',\n",
       " '00150001',\n",
       " '00175001',\n",
       " '00200001',\n",
       " '00225001',\n",
       " '00250001',\n",
       " '00275001',\n",
       " '00300001',\n",
       " '00325001',\n",
       " '00350001',\n",
       " '00375001',\n",
       " '00400001',\n",
       " '00425001',\n",
       " '00450001',\n",
       " '00475001',\n",
       " '00500001',\n",
       " '00525001',\n",
       " '00550001',\n",
       " '00575001',\n",
       " '00600001',\n",
       " '00625001',\n",
       " '00650001',\n",
       " '00675001',\n",
       " '00700001',\n",
       " '00725001',\n",
       " '00750001',\n",
       " '00775001',\n",
       " '00800001',\n",
       " '00825001',\n",
       " '00850001',\n",
       " '00875001',\n",
       " '00900001',\n",
       " '00925001',\n",
       " '00950001',\n",
       " '00975001']"
      ]
     },
     "execution_count": 27,
     "metadata": {},
     "output_type": "execute_result"
    }
   ],
   "source": [
    "download_and_decompress"
   ]
  },
  {
   "cell_type": "code",
   "execution_count": 28,
   "id": "66d3d775",
   "metadata": {},
   "outputs": [
    {
     "data": {
      "text/plain": [
       "['00025000',\n",
       " '00050000',\n",
       " '00075000',\n",
       " '00100000',\n",
       " '00125000',\n",
       " '00150000',\n",
       " '00175000',\n",
       " '00200000',\n",
       " '00225000',\n",
       " '00250000',\n",
       " '00275000',\n",
       " '00300000',\n",
       " '00325000',\n",
       " '00350000',\n",
       " '00375000',\n",
       " '00400000',\n",
       " '00425000',\n",
       " '00450000',\n",
       " '00475000',\n",
       " '00500000',\n",
       " '00525000',\n",
       " '00550000',\n",
       " '00575000',\n",
       " '00600000',\n",
       " '00625000',\n",
       " '00650000',\n",
       " '00675000',\n",
       " '00700000',\n",
       " '00725000',\n",
       " '00750000',\n",
       " '00775000',\n",
       " '00800000',\n",
       " '00825000',\n",
       " '00850000',\n",
       " '00875000',\n",
       " '00900000',\n",
       " '00925000',\n",
       " '00950000',\n",
       " '00975000',\n",
       " '01000000']"
      ]
     },
     "execution_count": 28,
     "metadata": {},
     "output_type": "execute_result"
    }
   ],
   "source": [
    "bs"
   ]
  },
  {
   "cell_type": "code",
   "execution_count": null,
   "id": "0793b40e",
   "metadata": {},
   "outputs": [],
   "source": []
  }
 ],
 "metadata": {
  "kernelspec": {
   "display_name": "Python 3 (ipykernel)",
   "language": "python",
   "name": "python3"
  },
  "language_info": {
   "codemirror_mode": {
    "name": "ipython",
    "version": 3
   },
   "file_extension": ".py",
   "mimetype": "text/x-python",
   "name": "python",
   "nbconvert_exporter": "python",
   "pygments_lexer": "ipython3",
   "version": "3.11.3"
  }
 },
 "nbformat": 4,
 "nbformat_minor": 5
}
