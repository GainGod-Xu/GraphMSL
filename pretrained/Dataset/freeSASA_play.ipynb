{
 "cells": [
  {
   "cell_type": "code",
   "execution_count": 1,
   "id": "169229b7",
   "metadata": {},
   "outputs": [
    {
     "name": "stdout",
     "output_type": "stream",
     "text": [
      "/Users/haoxu\r\n"
     ]
    }
   ],
   "source": [
    "!pwd"
   ]
  },
  {
   "cell_type": "code",
   "execution_count": 2,
   "id": "259900d2",
   "metadata": {},
   "outputs": [
    {
     "name": "stdout",
     "output_type": "stream",
     "text": [
      "/Users/haoxu/Desktop\n"
     ]
    }
   ],
   "source": [
    "%cd Desktop"
   ]
  },
  {
   "cell_type": "code",
   "execution_count": 24,
   "id": "305ea493",
   "metadata": {},
   "outputs": [],
   "source": [
    "from rdkit import Chem\n",
    "mol_supplier = Chem.SDMolSupplier('00000001_00025000.sdf', removeHs =False)"
   ]
  },
  {
   "cell_type": "code",
   "execution_count": 29,
   "id": "be0a899e",
   "metadata": {},
   "outputs": [
    {
     "name": "stdout",
     "output_type": "stream",
     "text": [
      "281.6121814660384\n",
      "273.77650557435936\n",
      "274.73615197546496\n",
      "278.21528997955824\n",
      "273.58609233442525\n",
      "275.8527717084492\n",
      "278.4479454576033\n",
      "278.08102168469367\n",
      "275.022571176864\n",
      "274.36477860639076\n",
      "288.68500404339244\n"
     ]
    }
   ],
   "source": [
    "from rdkit.Chem import rdFreeSASA\n",
    "\n",
    "for idx, mol in enumerate(mol_supplier, start=0):\n",
    "    if mol:\n",
    "        # Print the structure of the molecule\n",
    "        #print(Chem.MolToMolBlock(mol))\n",
    "        radii  = rdFreeSASA.classifyAtoms(mol)\n",
    "        sasa =  rdFreeSASA.CalcSASA(mol,radii)\n",
    "        print(sasa)\n",
    "    if idx == 10:\n",
    "        break\n"
   ]
  },
  {
   "cell_type": "code",
   "execution_count": 68,
   "id": "8151a413",
   "metadata": {},
   "outputs": [],
   "source": [
    "def calc_freeSASA(mol):\n",
    "    probe_radius_list = [round(0.05 + i * 0.05, 2) for i in range(128)]\n",
    "    results = []\n",
    "    \n",
    "    # Classify atoms\n",
    "    radii = rdFreeSASA.classifyAtoms(mol)\n",
    "    \n",
    "    for pr in probe_radius_list:\n",
    "        # Set up SASA options\n",
    "        sasa_opts = rdFreeSASA.SASAOpts()\n",
    "        sasa_opts.probeRadius=pr  # Set probe radius\n",
    "        sasa_opts.algorithm = rdFreeSASA.ShrakeRupley \n",
    "\n",
    "        # Calculate SASA\n",
    "        sasa = rdFreeSASA.CalcSASA(mol,radii=radii, opts=sasa_opts)\n",
    "        results.append(sasa)\n",
    "    return results"
   ]
  },
  {
   "cell_type": "code",
   "execution_count": 77,
   "id": "7a9edcfe",
   "metadata": {},
   "outputs": [
    {
     "name": "stdout",
     "output_type": "stream",
     "text": [
      "Properties of molecule 0\n",
      "00000001_100000002\n"
     ]
    }
   ],
   "source": [
    "for idx, mol in enumerate(mol_supplier, start=0):\n",
    "    if mol:\n",
    "        props = mol.GetPropsAsDict()\n",
    "        print(\"Properties of molecule\", idx)\n",
    "        cid= \"{:08d}\".format(props['PUBCHEM_COMPOUND_CID'])\n",
    "        conf_id = props['PUBCHEM_CONFORMER_ID']\n",
    "        id = str(cid) + \"_\" + str(conf_id)\n",
    "        print(id)\n",
    "    break\n"
   ]
  },
  {
   "cell_type": "code",
   "execution_count": 35,
   "id": "9a477a68",
   "metadata": {},
   "outputs": [
    {
     "name": "stdout",
     "output_type": "stream",
     "text": [
      "6.4\n"
     ]
    }
   ],
   "source": [
    "probe_radius_list = [round(0.05 + i * 0.05, 2) for i in range(128)]\n",
    "print(probe_radius_list[-1])"
   ]
  }
 ],
 "metadata": {
  "kernelspec": {
   "display_name": "Python 3 (ipykernel)",
   "language": "python",
   "name": "python3"
  },
  "language_info": {
   "codemirror_mode": {
    "name": "ipython",
    "version": 3
   },
   "file_extension": ".py",
   "mimetype": "text/x-python",
   "name": "python",
   "nbconvert_exporter": "python",
   "pygments_lexer": "ipython3",
   "version": "3.11.3"
  }
 },
 "nbformat": 4,
 "nbformat_minor": 5
}
